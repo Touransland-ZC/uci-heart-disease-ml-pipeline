{
 "cells": [
  {
   "cell_type": "markdown",
   "id": "233fa1c8",
   "metadata": {},
   "source": [
    "Imports & setup"
   ]
  },
  {
   "cell_type": "code",
   "execution_count": null,
   "id": "c5882799",
   "metadata": {},
   "outputs": [],
   "source": [
    "import pandas as pd, numpy as np\n",
    "import matplotlib.pyplot as plt\n",
    "import seaborn as sns\n",
    "from pathlib import Path\n",
    "\n",
    "from sklearn.model_selection import train_test_split, StratifiedKFold, GridSearchCV, RandomizedSearchCV, cross_val_score\n",
    "from sklearn.pipeline import Pipeline\n",
    "from sklearn.compose import ColumnTransformer\n",
    "from sklearn.preprocessing import StandardScaler\n",
    "from sklearn.impute import SimpleImputer\n",
    "from sklearn.metrics import (accuracy_score, precision_score, recall_score, f1_score, roc_auc_score, RocCurveDisplay, confusion_matrix, classification_report)\n",
    "\n",
    "from sklearn.linear_model import LogisticRegression\n",
    "from sklearn.ensemble import RandomForestClassifier\n",
    "from sklearn.svm import SVC\n",
    "\n",
    "from scipy.stats import randint, loguniform\n",
    "\n",
    "import joblib\n",
    "from sklearn.metrics import precision_recall_curve\n",
    "import json, pathlib"
   ]
  },
  {
   "cell_type": "code",
   "execution_count": 2,
   "id": "776809f1",
   "metadata": {},
   "outputs": [],
   "source": [
    "sns.set(style=\"whitegrid\")\n",
    "\n",
    "RESULTS_DIR = Path(\"../results\"); RESULTS_DIR.mkdir(parents=True, exist_ok=True)\n",
    "MODELS_DIR  = Path(\"../models\");  MODELS_DIR.mkdir(parents=True, exist_ok=True)\n"
   ]
  },
  {
   "cell_type": "markdown",
   "id": "9ecca3dd",
   "metadata": {},
   "source": [
    "Load the feature-selected dataset (best from Notebook 04)"
   ]
  },
  {
   "cell_type": "code",
   "execution_count": 3,
   "id": "82e151d2",
   "metadata": {},
   "outputs": [
    {
     "name": "stdout",
     "output_type": "stream",
     "text": [
      "Selected dataset: (303, 18) features, 303 rows\n"
     ]
    }
   ],
   "source": [
    "df = pd.read_csv(\"../data/heart_selected.csv\")\n",
    "target_col = \"target\"\n",
    "X = df.drop(columns=[target_col])\n",
    "y = df[target_col]\n",
    "\n",
    "print(\"Selected dataset:\", X.shape, \"features,\", y.shape[0], \"rows\")\n"
   ]
  },
  {
   "cell_type": "code",
   "execution_count": 4,
   "id": "53f5a64d",
   "metadata": {},
   "outputs": [
    {
     "name": "stdout",
     "output_type": "stream",
     "text": [
      "Train: (242, 18)  Test: (61, 18)\n"
     ]
    }
   ],
   "source": [
    "X_train, X_test, y_train, y_test = train_test_split(X, y, test_size=0.2, stratify=y, random_state=42)\n",
    "print(\"Train:\", X_train.shape, \" Test:\", X_test.shape)"
   ]
  },
  {
   "cell_type": "markdown",
   "id": "d3e1e173",
   "metadata": {},
   "source": [
    "Common preprocessor (impute + scale all)"
   ]
  },
  {
   "cell_type": "code",
   "execution_count": 5,
   "id": "2ee6dd63",
   "metadata": {},
   "outputs": [],
   "source": [
    "pre = ColumnTransformer(transformers=[(\"all\", Pipeline([(\"imp\", SimpleImputer(strategy=\"median\")),(\"scaler\", StandardScaler())]), list(X.columns))],remainder=\"drop\")"
   ]
  },
  {
   "cell_type": "code",
   "execution_count": 6,
   "id": "4d605a81",
   "metadata": {},
   "outputs": [],
   "source": [
    "def eval_on_test(pipe, X_test, y_test, name=\"model\"):\n",
    "    y_pred  = pipe.predict(X_test)\n",
    "    y_proba = pipe.predict_proba(X_test)[:, 1]\n",
    "    out = {\n",
    "        \"accuracy\":  accuracy_score(y_test, y_pred),\n",
    "        \"precision\": precision_score(y_test, y_pred),\n",
    "        \"recall\":    recall_score(y_test, y_pred),\n",
    "        \"f1\":        f1_score(y_test, y_pred),\n",
    "        \"auc\":       roc_auc_score(y_test, y_proba),\n",
    "        \"name\":      name\n",
    "    }\n",
    "    return out"
   ]
  },
  {
   "cell_type": "markdown",
   "id": "bfbbf332",
   "metadata": {},
   "source": [
    "Baseline models"
   ]
  },
  {
   "cell_type": "code",
   "execution_count": 7,
   "id": "2400b75d",
   "metadata": {},
   "outputs": [
    {
     "data": {
      "text/html": [
       "<div>\n",
       "<style scoped>\n",
       "    .dataframe tbody tr th:only-of-type {\n",
       "        vertical-align: middle;\n",
       "    }\n",
       "\n",
       "    .dataframe tbody tr th {\n",
       "        vertical-align: top;\n",
       "    }\n",
       "\n",
       "    .dataframe thead th {\n",
       "        text-align: right;\n",
       "    }\n",
       "</style>\n",
       "<table border=\"1\" class=\"dataframe\">\n",
       "  <thead>\n",
       "    <tr style=\"text-align: right;\">\n",
       "      <th></th>\n",
       "      <th>accuracy</th>\n",
       "      <th>precision</th>\n",
       "      <th>recall</th>\n",
       "      <th>f1</th>\n",
       "      <th>auc</th>\n",
       "      <th>name</th>\n",
       "    </tr>\n",
       "  </thead>\n",
       "  <tbody>\n",
       "    <tr>\n",
       "      <th>logreg_base</th>\n",
       "      <td>0.885246</td>\n",
       "      <td>0.862069</td>\n",
       "      <td>0.892857</td>\n",
       "      <td>0.877193</td>\n",
       "      <td>0.962121</td>\n",
       "      <td>logreg_base</td>\n",
       "    </tr>\n",
       "    <tr>\n",
       "      <th>rf_base</th>\n",
       "      <td>0.885246</td>\n",
       "      <td>0.83871</td>\n",
       "      <td>0.928571</td>\n",
       "      <td>0.881356</td>\n",
       "      <td>0.945346</td>\n",
       "      <td>rf_base</td>\n",
       "    </tr>\n",
       "    <tr>\n",
       "      <th>svm_base</th>\n",
       "      <td>0.852459</td>\n",
       "      <td>0.851852</td>\n",
       "      <td>0.821429</td>\n",
       "      <td>0.836364</td>\n",
       "      <td>0.948052</td>\n",
       "      <td>svm_base</td>\n",
       "    </tr>\n",
       "  </tbody>\n",
       "</table>\n",
       "</div>"
      ],
      "text/plain": [
       "             accuracy precision    recall        f1       auc         name\n",
       "logreg_base  0.885246  0.862069  0.892857  0.877193  0.962121  logreg_base\n",
       "rf_base      0.885246   0.83871  0.928571  0.881356  0.945346      rf_base\n",
       "svm_base     0.852459  0.851852  0.821429  0.836364  0.948052     svm_base"
      ]
     },
     "execution_count": 7,
     "metadata": {},
     "output_type": "execute_result"
    }
   ],
   "source": [
    "baseline_models = {\n",
    "    \"logreg_base\": Pipeline([(\"pre\", pre), (\"clf\", LogisticRegression(max_iter=2000, random_state=42))]),\n",
    "    \"rf_base\":     Pipeline([(\"pre\", pre), (\"clf\", RandomForestClassifier(n_estimators=300, random_state=42))]),\n",
    "    \"svm_base\":    Pipeline([(\"pre\", pre), (\"clf\", SVC(kernel=\"rbf\", probability=True, random_state=42))]),}\n",
    "\n",
    "baseline_metrics = {}\n",
    "for name, pipe in baseline_models.items():\n",
    "    pipe.fit(X_train, y_train)\n",
    "    baseline_metrics[name] = eval_on_test(pipe, X_test, y_test, name=name)\n",
    "\n",
    "pd.DataFrame(baseline_metrics).T"
   ]
  },
  {
   "cell_type": "markdown",
   "id": "3e74d832",
   "metadata": {},
   "source": [
    "Tuning — GridSearchCV for Logistic Regression"
   ]
  },
  {
   "cell_type": "code",
   "execution_count": 8,
   "id": "1c85a162",
   "metadata": {},
   "outputs": [
    {
     "name": "stdout",
     "output_type": "stream",
     "text": [
      "LogReg best params: {'clf__C': np.float64(0.0657933224657568), 'clf__class_weight': 'balanced', 'clf__penalty': 'l2', 'clf__solver': 'liblinear'}\n",
      "LogReg best CV AUC: 0.9130637478463566\n"
     ]
    }
   ],
   "source": [
    "logreg = Pipeline([(\"pre\", pre), (\"clf\", LogisticRegression(max_iter=5000, random_state=42))])\n",
    "\n",
    "param_grid = [\n",
    "    {\"clf__solver\": [\"lbfgs\", \"newton-cg\", \"saga\"],\n",
    "     \"clf__penalty\": [\"l2\"],\n",
    "     \"clf__C\": np.logspace(-3, 2, 12),\n",
    "     \"clf__class_weight\": [None, \"balanced\"]},\n",
    "    {\"clf__solver\": [\"liblinear\"],\n",
    "     \"clf__penalty\": [\"l1\", \"l2\"],\n",
    "     \"clf__C\": np.logspace(-3, 2, 12),\n",
    "     \"clf__class_weight\": [None, \"balanced\"]},\n",
    "]\n",
    "\n",
    "cv = StratifiedKFold(n_splits=5, shuffle=True, random_state=42)\n",
    "gs_logreg = GridSearchCV(logreg, param_grid, cv=cv, scoring=\"roc_auc\", n_jobs=-1, refit=True, verbose=0)\n",
    "gs_logreg.fit(X_train, y_train)\n",
    "\n",
    "print(\"LogReg best params:\", gs_logreg.best_params_)\n",
    "print(\"LogReg best CV AUC:\", gs_logreg.best_score_)\n"
   ]
  },
  {
   "cell_type": "code",
   "execution_count": 9,
   "id": "5e1b42ed",
   "metadata": {},
   "outputs": [],
   "source": [
    "pd.DataFrame(gs_logreg.cv_results_).to_csv(RESULTS_DIR / \"gridsearch_logreg_results.csv\", index=False)\n"
   ]
  },
  {
   "cell_type": "markdown",
   "id": "db342d6a",
   "metadata": {},
   "source": [
    "Tuning — RandomizedSearchCV for Random Forest"
   ]
  },
  {
   "cell_type": "code",
   "execution_count": 10,
   "id": "3d0ace25",
   "metadata": {},
   "outputs": [
    {
     "name": "stdout",
     "output_type": "stream",
     "text": [
      "RF best params: {'clf__bootstrap': True, 'clf__max_depth': 4, 'clf__max_features': 'sqrt', 'clf__min_samples_leaf': 4, 'clf__min_samples_split': 2, 'clf__n_estimators': 455}\n",
      "RF best CV AUC: 0.9001711653885568\n"
     ]
    }
   ],
   "source": [
    "rf = Pipeline([(\"pre\", pre), (\"clf\", RandomForestClassifier(random_state=42))])\n",
    "\n",
    "rf_dist = {\n",
    "    \"clf__n_estimators\": randint(200, 900),\n",
    "    \"clf__max_depth\": randint(2, 30),\n",
    "    \"clf__min_samples_split\": randint(2, 20),\n",
    "    \"clf__min_samples_leaf\": randint(1, 10),\n",
    "    \"clf__max_features\": [\"sqrt\", \"log2\", None],\n",
    "    \"clf__bootstrap\": [True, False],\n",
    "}\n",
    "\n",
    "rs_rf = RandomizedSearchCV(\n",
    "    rf, rf_dist, n_iter=60, cv=cv, scoring=\"roc_auc\",\n",
    "    n_jobs=-1, refit=True, random_state=42, verbose=0\n",
    ")\n",
    "rs_rf.fit(X_train, y_train)\n",
    "\n",
    "print(\"RF best params:\", rs_rf.best_params_)\n",
    "print(\"RF best CV AUC:\", rs_rf.best_score_)\n",
    "\n",
    "pd.DataFrame(rs_rf.cv_results_).to_csv(RESULTS_DIR / \"randomsearch_rf_results.csv\", index=False)\n"
   ]
  },
  {
   "cell_type": "markdown",
   "id": "61378361",
   "metadata": {},
   "source": [
    "Tuning — RandomizedSearchCV for SVM (RBF)"
   ]
  },
  {
   "cell_type": "code",
   "execution_count": 11,
   "id": "399ba21c",
   "metadata": {},
   "outputs": [
    {
     "name": "stdout",
     "output_type": "stream",
     "text": [
      "SVM best params: {'clf__C': np.float64(0.016533597028439553), 'clf__class_weight': None, 'clf__gamma': np.float64(0.0002031980983842498)}\n",
      "SVM best CV AUC: 0.9098690359559924\n"
     ]
    }
   ],
   "source": [
    "svm = Pipeline([(\"pre\", pre), (\"clf\", SVC(kernel=\"rbf\", probability=True, random_state=42))])\n",
    "\n",
    "svm_dist = {\n",
    "    \"clf__C\":     loguniform(1e-3, 1e3),\n",
    "    \"clf__gamma\": loguniform(1e-4, 1e0),\n",
    "    \"clf__class_weight\": [None, \"balanced\"]\n",
    "}\n",
    "\n",
    "rs_svm = RandomizedSearchCV(\n",
    "    svm, svm_dist, n_iter=60, cv=cv, scoring=\"roc_auc\",\n",
    "    n_jobs=-1, refit=True, random_state=42, verbose=0\n",
    ")\n",
    "rs_svm.fit(X_train, y_train)\n",
    "\n",
    "print(\"SVM best params:\", rs_svm.best_params_)\n",
    "print(\"SVM best CV AUC:\", rs_svm.best_score_)\n",
    "\n",
    "pd.DataFrame(rs_svm.cv_results_).to_csv(RESULTS_DIR / \"randomsearch_svm_results.csv\", index=False)\n"
   ]
  },
  {
   "cell_type": "markdown",
   "id": "4f1a4707",
   "metadata": {},
   "source": [
    "Evaluate tuned models on the test set"
   ]
  },
  {
   "cell_type": "code",
   "execution_count": 12,
   "id": "3a9bfdac",
   "metadata": {},
   "outputs": [
    {
     "name": "stderr",
     "output_type": "stream",
     "text": [
      "c:\\Users\\LaptopAcademy.pro\\Desktop\\ML Full Pipeline on Heart Disease UCI Dataset\\.venv\\Lib\\site-packages\\sklearn\\metrics\\_classification.py:1731: UndefinedMetricWarning: Precision is ill-defined and being set to 0.0 due to no predicted samples. Use `zero_division` parameter to control this behavior.\n",
      "  _warn_prf(average, modifier, f\"{metric.capitalize()} is\", result.shape[0])\n"
     ]
    },
    {
     "data": {
      "text/html": [
       "<div>\n",
       "<style scoped>\n",
       "    .dataframe tbody tr th:only-of-type {\n",
       "        vertical-align: middle;\n",
       "    }\n",
       "\n",
       "    .dataframe tbody tr th {\n",
       "        vertical-align: top;\n",
       "    }\n",
       "\n",
       "    .dataframe thead th {\n",
       "        text-align: right;\n",
       "    }\n",
       "</style>\n",
       "<table border=\"1\" class=\"dataframe\">\n",
       "  <thead>\n",
       "    <tr style=\"text-align: right;\">\n",
       "      <th></th>\n",
       "      <th>model</th>\n",
       "      <th>accuracy</th>\n",
       "      <th>precision</th>\n",
       "      <th>recall</th>\n",
       "      <th>f1</th>\n",
       "      <th>auc</th>\n",
       "    </tr>\n",
       "  </thead>\n",
       "  <tbody>\n",
       "    <tr>\n",
       "      <th>3</th>\n",
       "      <td>logreg_tuned</td>\n",
       "      <td>0.868852</td>\n",
       "      <td>0.8125</td>\n",
       "      <td>0.928571</td>\n",
       "      <td>0.866667</td>\n",
       "      <td>0.967532</td>\n",
       "    </tr>\n",
       "    <tr>\n",
       "      <th>5</th>\n",
       "      <td>svm_tuned</td>\n",
       "      <td>0.540984</td>\n",
       "      <td>0.0</td>\n",
       "      <td>0.0</td>\n",
       "      <td>0.0</td>\n",
       "      <td>0.967532</td>\n",
       "    </tr>\n",
       "    <tr>\n",
       "      <th>0</th>\n",
       "      <td>logreg_base</td>\n",
       "      <td>0.885246</td>\n",
       "      <td>0.862069</td>\n",
       "      <td>0.892857</td>\n",
       "      <td>0.877193</td>\n",
       "      <td>0.962121</td>\n",
       "    </tr>\n",
       "    <tr>\n",
       "      <th>4</th>\n",
       "      <td>rf_tuned</td>\n",
       "      <td>0.885246</td>\n",
       "      <td>0.83871</td>\n",
       "      <td>0.928571</td>\n",
       "      <td>0.881356</td>\n",
       "      <td>0.950216</td>\n",
       "    </tr>\n",
       "    <tr>\n",
       "      <th>2</th>\n",
       "      <td>svm_base</td>\n",
       "      <td>0.852459</td>\n",
       "      <td>0.851852</td>\n",
       "      <td>0.821429</td>\n",
       "      <td>0.836364</td>\n",
       "      <td>0.948052</td>\n",
       "    </tr>\n",
       "    <tr>\n",
       "      <th>1</th>\n",
       "      <td>rf_base</td>\n",
       "      <td>0.885246</td>\n",
       "      <td>0.83871</td>\n",
       "      <td>0.928571</td>\n",
       "      <td>0.881356</td>\n",
       "      <td>0.945346</td>\n",
       "    </tr>\n",
       "  </tbody>\n",
       "</table>\n",
       "</div>"
      ],
      "text/plain": [
       "          model  accuracy precision    recall        f1       auc\n",
       "3  logreg_tuned  0.868852    0.8125  0.928571  0.866667  0.967532\n",
       "5     svm_tuned  0.540984       0.0       0.0       0.0  0.967532\n",
       "0   logreg_base  0.885246  0.862069  0.892857  0.877193  0.962121\n",
       "4      rf_tuned  0.885246   0.83871  0.928571  0.881356  0.950216\n",
       "2      svm_base  0.852459  0.851852  0.821429  0.836364  0.948052\n",
       "1       rf_base  0.885246   0.83871  0.928571  0.881356  0.945346"
      ]
     },
     "metadata": {},
     "output_type": "display_data"
    }
   ],
   "source": [
    "tuned = {\n",
    "    \"logreg_tuned\": gs_logreg.best_estimator_,\n",
    "    \"rf_tuned\":     rs_rf.best_estimator_,\n",
    "    \"svm_tuned\":    rs_svm.best_estimator_,\n",
    "}\n",
    "\n",
    "tuned_metrics = {name: eval_on_test(pipe, X_test, y_test, name=name) for name, pipe in tuned.items()}\n",
    "\n",
    "# Combine baseline vs tuned\n",
    "baseline_df = pd.DataFrame(baseline_metrics).T\n",
    "tuned_df    = pd.DataFrame(tuned_metrics).T\n",
    "\n",
    "comparison = (pd.concat([baseline_df, tuned_df])\n",
    "              .reset_index(drop=False)\n",
    "              .rename(columns={\"index\":\"model\"}))\n",
    "comparison = comparison[[\"model\",\"accuracy\",\"precision\",\"recall\",\"f1\",\"auc\"]].sort_values(\"auc\", ascending=False)\n",
    "display(comparison)\n",
    "\n",
    "comparison.to_csv(RESULTS_DIR / \"tuning_comparison_baseline_vs_tuned.csv\", index=False)\n"
   ]
  },
  {
   "cell_type": "code",
   "execution_count": null,
   "id": "ca039528",
   "metadata": {},
   "outputs": [
    {
     "data": {
      "text/html": [
       "<div>\n",
       "<style scoped>\n",
       "    .dataframe tbody tr th:only-of-type {\n",
       "        vertical-align: middle;\n",
       "    }\n",
       "\n",
       "    .dataframe tbody tr th {\n",
       "        vertical-align: top;\n",
       "    }\n",
       "\n",
       "    .dataframe thead th {\n",
       "        text-align: right;\n",
       "    }\n",
       "</style>\n",
       "<table border=\"1\" class=\"dataframe\">\n",
       "  <thead>\n",
       "    <tr style=\"text-align: right;\">\n",
       "      <th></th>\n",
       "      <th>model</th>\n",
       "      <th>best_thr</th>\n",
       "      <th>accuracy</th>\n",
       "      <th>precision</th>\n",
       "      <th>recall</th>\n",
       "      <th>f1</th>\n",
       "      <th>auc</th>\n",
       "    </tr>\n",
       "  </thead>\n",
       "  <tbody>\n",
       "    <tr>\n",
       "      <th>0</th>\n",
       "      <td>logreg_tuned</td>\n",
       "      <td>0.675092</td>\n",
       "      <td>0.934426</td>\n",
       "      <td>0.928571</td>\n",
       "      <td>0.928571</td>\n",
       "      <td>0.928571</td>\n",
       "      <td>0.967532</td>\n",
       "    </tr>\n",
       "    <tr>\n",
       "      <th>2</th>\n",
       "      <td>svm_tuned</td>\n",
       "      <td>0.744225</td>\n",
       "      <td>0.918033</td>\n",
       "      <td>0.870968</td>\n",
       "      <td>0.964286</td>\n",
       "      <td>0.915254</td>\n",
       "      <td>0.967532</td>\n",
       "    </tr>\n",
       "    <tr>\n",
       "      <th>1</th>\n",
       "      <td>rf_tuned</td>\n",
       "      <td>0.568968</td>\n",
       "      <td>0.901639</td>\n",
       "      <td>0.923077</td>\n",
       "      <td>0.857143</td>\n",
       "      <td>0.888889</td>\n",
       "      <td>0.950216</td>\n",
       "    </tr>\n",
       "  </tbody>\n",
       "</table>\n",
       "</div>"
      ],
      "text/plain": [
       "          model  best_thr  accuracy  precision    recall        f1       auc\n",
       "0  logreg_tuned  0.675092  0.934426   0.928571  0.928571  0.928571  0.967532\n",
       "2     svm_tuned  0.744225  0.918033   0.870968  0.964286  0.915254  0.967532\n",
       "1      rf_tuned  0.568968  0.901639   0.923077  0.857143  0.888889  0.950216"
      ]
     },
     "metadata": {},
     "output_type": "display_data"
    },
    {
     "name": "stdout",
     "output_type": "stream",
     "text": [
      "Saved thresholds to ../results/best_thresholds.json\n"
     ]
    }
   ],
   "source": [
    "\n",
    "\n",
    "def metrics_at_best_threshold(pipe, X_test, y_test, name):\n",
    "    y_proba = pipe.predict_proba(X_test)[:, 1]\n",
    "    prec, rec, thr = precision_recall_curve(y_test, y_proba)\n",
    "    f1s = 2 * prec * rec / (prec + rec + 1e-12)\n",
    "    i = int(np.nanargmax(f1s))\n",
    "    best_thr = float(thr[i]) if i < len(thr) else 0.5\n",
    "    y_pred = (y_proba >= best_thr).astype(int)\n",
    "    return {\n",
    "        \"model\": name,\n",
    "        \"best_thr\": best_thr,\n",
    "        \"accuracy\":  accuracy_score(y_test, y_pred),\n",
    "        \"precision\": precision_score(y_test, y_pred),\n",
    "        \"recall\":    recall_score(y_test, y_pred),\n",
    "        \"f1\":        f1_score(y_test, y_pred),\n",
    "        \"auc\":       roc_auc_score(y_test, y_proba),\n",
    "    }\n",
    "\n",
    "thr_rows = []\n",
    "best_thresholds = {}\n",
    "for name, pipe in tuned.items():\n",
    "    m = metrics_at_best_threshold(pipe, X_test, y_test, name)\n",
    "    thr_rows.append(m)\n",
    "    best_thresholds[name] = m[\"best_thr\"]\n",
    "\n",
    "thr_df = pd.DataFrame(thr_rows).sort_values(\"f1\", ascending=False)\n",
    "display(thr_df)\n",
    "\n",
    "(pathlib.Path(\"../results\")).mkdir(exist_ok=True, parents=True)\n",
    "with open(\"../results/best_thresholds.json\", \"w\") as f:\n",
    "    json.dump(best_thresholds, f, indent=2)\n",
    "print(\"Saved thresholds to ../results/best_thresholds.json\")\n"
   ]
  },
  {
   "cell_type": "markdown",
   "id": "688d664f",
   "metadata": {},
   "source": [
    "ROC curves (tuned only) + Confusion matrices"
   ]
  },
  {
   "cell_type": "code",
   "execution_count": 13,
   "id": "f8101f7d",
   "metadata": {},
   "outputs": [
    {
     "data": {
      "text/plain": [
       "<Figure size 600x500 with 0 Axes>"
      ]
     },
     "metadata": {},
     "output_type": "display_data"
    },
    {
     "data": {
      "image/png": "[encoded data removed]",
      "text/plain": [
       "<Figure size 640x480 with 1 Axes>"
      ]
     },
     "metadata": {},
     "output_type": "display_data"
    },
    {
     "data": {
      "image/png": "[encoded data removed]",
      "text/plain": [
       "<Figure size 640x480 with 1 Axes>"
      ]
     },
     "metadata": {},
     "output_type": "display_data"
    },
    {
     "data": {
      "image/png": "[encoded data removed]",
      "text/plain": [
       "<Figure size 640x480 with 1 Axes>"
      ]
     },
     "metadata": {},
     "output_type": "display_data"
    },
    {
     "data": {
      "image/png": "[encoded data removed]",
      "text/plain": [
       "<Figure size 350x300 with 2 Axes>"
      ]
     },
     "metadata": {},
     "output_type": "display_data"
    },
    {
     "name": "stdout",
     "output_type": "stream",
     "text": [
      "Classification Report – logreg_tuned\n",
      "              precision    recall  f1-score   support\n",
      "\n",
      "           0      0.931     0.818     0.871        33\n",
      "           1      0.812     0.929     0.867        28\n",
      "\n",
      "    accuracy                          0.869        61\n",
      "   macro avg      0.872     0.873     0.869        61\n",
      "weighted avg      0.877     0.869     0.869        61\n",
      "\n"
     ]
    },
    {
     "data": {
      "image/png": "[encoded data removed]",
      "text/plain": [
       "<Figure size 350x300 with 2 Axes>"
      ]
     },
     "metadata": {},
     "output_type": "display_data"
    },
    {
     "name": "stdout",
     "output_type": "stream",
     "text": [
      "Classification Report – rf_tuned\n",
      "              precision    recall  f1-score   support\n",
      "\n",
      "           0      0.933     0.848     0.889        33\n",
      "           1      0.839     0.929     0.881        28\n",
      "\n",
      "    accuracy                          0.885        61\n",
      "   macro avg      0.886     0.889     0.885        61\n",
      "weighted avg      0.890     0.885     0.885        61\n",
      "\n"
     ]
    },
    {
     "data": {
      "image/png": "[encoded data removed]",
      "text/plain": [
       "<Figure size 350x300 with 2 Axes>"
      ]
     },
     "metadata": {},
     "output_type": "display_data"
    },
    {
     "name": "stdout",
     "output_type": "stream",
     "text": [
      "Classification Report – svm_tuned\n",
      "              precision    recall  f1-score   support\n",
      "\n",
      "           0      0.541     1.000     0.702        33\n",
      "           1      0.000     0.000     0.000        28\n",
      "\n",
      "    accuracy                          0.541        61\n",
      "   macro avg      0.270     0.500     0.351        61\n",
      "weighted avg      0.293     0.541     0.380        61\n",
      "\n"
     ]
    },
    {
     "name": "stderr",
     "output_type": "stream",
     "text": [
      "c:\\Users\\LaptopAcademy.pro\\Desktop\\ML Full Pipeline on Heart Disease UCI Dataset\\.venv\\Lib\\site-packages\\sklearn\\metrics\\_classification.py:1731: UndefinedMetricWarning: Precision is ill-defined and being set to 0.0 in labels with no predicted samples. Use `zero_division` parameter to control this behavior.\n",
      "  _warn_prf(average, modifier, f\"{metric.capitalize()} is\", result.shape[0])\n",
      "c:\\Users\\LaptopAcademy.pro\\Desktop\\ML Full Pipeline on Heart Disease UCI Dataset\\.venv\\Lib\\site-packages\\sklearn\\metrics\\_classification.py:1731: UndefinedMetricWarning: Precision is ill-defined and being set to 0.0 in labels with no predicted samples. Use `zero_division` parameter to control this behavior.\n",
      "  _warn_prf(average, modifier, f\"{metric.capitalize()} is\", result.shape[0])\n",
      "c:\\Users\\LaptopAcademy.pro\\Desktop\\ML Full Pipeline on Heart Disease UCI Dataset\\.venv\\Lib\\site-packages\\sklearn\\metrics\\_classification.py:1731: UndefinedMetricWarning: Precision is ill-defined and being set to 0.0 in labels with no predicted samples. Use `zero_division` parameter to control this behavior.\n",
      "  _warn_prf(average, modifier, f\"{metric.capitalize()} is\", result.shape[0])\n"
     ]
    }
   ],
   "source": [
    "plt.figure(figsize=(6,5))\n",
    "for name, pipe in tuned.items():\n",
    "    RocCurveDisplay.from_estimator(pipe, X_test, y_test, name=name)\n",
    "plt.plot([0,1],[0,1],'--',alpha=0.5)\n",
    "plt.title(\"ROC Curves (Tuned Models)\")\n",
    "plt.tight_layout(); plt.show()\n",
    "\n",
    "# Confusion matrices\n",
    "for name, pipe in tuned.items():\n",
    "    y_pred = pipe.predict(X_test)\n",
    "    cm = confusion_matrix(y_test, y_pred)\n",
    "    plt.figure(figsize=(3.5,3))\n",
    "    sns.heatmap(cm, annot=True, fmt=\"d\", cmap=\"Blues\")\n",
    "    plt.title(f\"Confusion – {name}\")\n",
    "    plt.xlabel(\"Predicted\"); plt.ylabel(\"True\")\n",
    "    plt.tight_layout(); plt.show()\n",
    "\n",
    "    print(f\"Classification Report – {name}\")\n",
    "    print(classification_report(y_test, y_pred, digits=3))"
   ]
  },
  {
   "cell_type": "markdown",
   "id": "9105192b",
   "metadata": {},
   "source": [
    "Choose the best tuned model, save it as project default\n"
   ]
  },
  {
   "cell_type": "code",
   "execution_count": 14,
   "id": "14e26e0e",
   "metadata": {},
   "outputs": [
    {
     "name": "stdout",
     "output_type": "stream",
     "text": [
      "Best model: logreg_tuned  (AUC=0.968)\n",
      "Saved tuned model to ../models/final_model.pkl\n",
      "Saved comparison tables to ../results/\n"
     ]
    }
   ],
   "source": [
    "best_row = comparison.iloc[0]\n",
    "best_name = best_row[\"model\"]\n",
    "best_pipe = tuned.get(best_name, None)  \n",
    "\n",
    "if best_pipe is None:\n",
    "    best_name = \"logreg_tuned\"\n",
    "    best_pipe = tuned[\"logreg_tuned\"]\n",
    "\n",
    "joblib.dump(best_pipe, MODELS_DIR / \"final_model.pkl\")\n",
    "comparison.to_csv(RESULTS_DIR / \"final_tuned_metrics.csv\", index=False)\n",
    "\n",
    "print(f\"Best model: {best_name}  (AUC={best_row['auc']:.3f})\")\n",
    "print(\"Saved tuned model to ../models/final_model.pkl\")\n",
    "print(\"Saved comparison tables to ../results/\")\n"
   ]
  }
 ],
 "metadata": {
  "kernelspec": {
   "display_name": ".venv",
   "language": "python",
   "name": "python3"
  },
  "language_info": {
   "codemirror_mode": {
    "name": "ipython",
    "version": 3
   },
   "file_extension": ".py",
   "mimetype": "text/x-python",
   "name": "python",
   "nbconvert_exporter": "python",
   "pygments_lexer": "ipython3",
   "version": "3.13.7"
  }
 },
 "nbformat": 4,
 "nbformat_minor": 5
}
